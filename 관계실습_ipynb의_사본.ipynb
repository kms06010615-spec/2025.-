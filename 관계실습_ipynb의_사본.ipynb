{
  "nbformat": 4,
  "nbformat_minor": 0,
  "metadata": {
    "colab": {
      "provenance": [],
      "authorship_tag": "ABX9TyO0wjGqD1TXgFB2N/xkfVZf",
      "include_colab_link": true
    },
    "kernelspec": {
      "name": "python3",
      "display_name": "Python 3"
    },
    "language_info": {
      "name": "python"
    }
  },
  "cells": [
    {
      "cell_type": "markdown",
      "metadata": {
        "id": "view-in-github",
        "colab_type": "text"
      },
      "source": [
        "<a href=\"https://colab.research.google.com/github/kms06010615-spec/2025.-/blob/main/%EA%B4%80%EA%B3%84%EC%8B%A4%EC%8A%B5_ipynb%EC%9D%98_%EC%82%AC%EB%B3%B8.ipynb\" target=\"_parent\"><img src=\"https://colab.research.google.com/assets/colab-badge.svg\" alt=\"Open In Colab\"/></a>"
      ]
    },
    {
      "cell_type": "code",
      "execution_count": null,
      "metadata": {
        "id": "ejSkhb_XLXhk"
      },
      "outputs": [],
      "source": [
        "import numpy as np\n",
        "import networkx as nx\n",
        "import matplotlib.pyplot as pit"
      ]
    },
    {
      "cell_type": "code",
      "source": [
        "A = {1, 2, 3}\n",
        "B = {2, 3, 4}\n",
        "# A에서 B로 가는 이항 관계 R\n",
        "R = {(1, 2), (2, 3), (3, 2), (3, 4)}\n",
        "\n",
        "print(\"관계 R:\", R)"
      ],
      "metadata": {
        "colab": {
          "base_uri": "https://localhost:8080/"
        },
        "id": "0Wc21wnEL4nK",
        "outputId": "69e86acc-ade9-4834-ba17-205bb11687be"
      },
      "execution_count": null,
      "outputs": [
        {
          "output_type": "stream",
          "name": "stdout",
          "text": [
            "관계 R: {(2, 3), (3, 2), (1, 2), (3, 4)}\n"
          ]
        }
      ]
    },
    {
      "cell_type": "code",
      "source": [
        "A_list = sorted(A)\n",
        "B_list = sorted(B)\n",
        "\n",
        "relation_matrix = np.zeros((len(A_list), len(B_list)), dtype=int)\n",
        "\n",
        "for i, a in enumerate(A_list):\n",
        "    for j, b in enumerate(B_list):\n",
        "        if (a, b) in R:\n",
        "            relation_matrix[i, j] = 1\n",
        "\n",
        "print(\"관계 행렬 (rows: A, columns: B):\")\n",
        "print(relation_matrix)"
      ],
      "metadata": {
        "colab": {
          "base_uri": "https://localhost:8080/"
        },
        "id": "GDphc7ksMH8O",
        "outputId": "020945c0-a74a-4c32-cbe4-085c8559cb1e"
      },
      "execution_count": null,
      "outputs": [
        {
          "output_type": "stream",
          "name": "stdout",
          "text": [
            "관계 행렬 (rows: A, columns: B):\n",
            "[[1 0 0]\n",
            " [0 1 0]\n",
            " [1 0 1]]\n"
          ]
        }
      ]
    },
    {
      "cell_type": "code",
      "source": [
        "# R: A -> B\n",
        "# S: B -> C\n",
        "C = {'x', 'y'}\n",
        "S = {(2, 'x'), (3, 'y'), (4, 'x')}\n",
        "\n",
        "# 합성 관계 R ∘ S\n",
        "composed_relation = set()\n",
        "\n",
        "for (a, b1) in R:\n",
        "    for (b2, c) in S:\n",
        "        if b1 == b2:\n",
        "            composed_relation.add((a, c))\n",
        "\n",
        "print(\"합성 관계 R ∘ S:\", composed_relation)"
      ],
      "metadata": {
        "colab": {
          "base_uri": "https://localhost:8080/"
        },
        "id": "Nc1IrEe7MTRJ",
        "outputId": "b15d250f-e231-47c3-9de4-09bde5648427"
      },
      "execution_count": null,
      "outputs": [
        {
          "output_type": "stream",
          "name": "stdout",
          "text": [
            "합성 관계 R ∘ S: {(3, 'x'), (1, 'x'), (2, 'y')}\n"
          ]
        }
      ]
    }
  ]
}