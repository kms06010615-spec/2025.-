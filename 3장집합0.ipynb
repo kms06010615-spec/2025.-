{
  "nbformat": 4,
  "nbformat_minor": 0,
  "metadata": {
    "colab": {
      "provenance": [],
      "authorship_tag": "ABX9TyN+ltcjJT8TE2UebyIb+T5P",
      "include_colab_link": true
    },
    "kernelspec": {
      "name": "python3",
      "display_name": "Python 3"
    },
    "language_info": {
      "name": "python"
    }
  },
  "cells": [
    {
      "cell_type": "markdown",
      "metadata": {
        "id": "view-in-github",
        "colab_type": "text"
      },
      "source": [
        "<a href=\"https://colab.research.google.com/github/kms06010615-spec/2025.-/blob/main/3%EC%9E%A5%EC%A7%91%ED%95%A90.ipynb\" target=\"_parent\"><img src=\"https://colab.research.google.com/assets/colab-badge.svg\" alt=\"Open In Colab\"/></a>"
      ]
    },
    {
      "cell_type": "code",
      "execution_count": 1,
      "metadata": {
        "colab": {
          "base_uri": "https://localhost:8080/"
        },
        "id": "6zW4aX7Z07ZL",
        "outputId": "20599ff7-8ca5-471b-e371-aa913d34c639"
      },
      "outputs": [
        {
          "output_type": "stream",
          "name": "stdout",
          "text": [
            "hello world\n"
          ]
        }
      ],
      "source": [
        "print(\"hello world\")"
      ]
    },
    {
      "cell_type": "code",
      "source": [
        "s1=set([1,2,3])\n",
        "print(s1)\n",
        "s2=set([2,3,4])\n",
        "print(s2)\n",
        "\n",
        "print(s1&s2)\n",
        "print(s1 | s2)\n",
        "print(s1 - s2)"
      ],
      "metadata": {
        "colab": {
          "base_uri": "https://localhost:8080/"
        },
        "id": "_hyPehR21JS7",
        "outputId": "0e701933-f960-46a8-9aee-dc0fd8251801"
      },
      "execution_count": 2,
      "outputs": [
        {
          "output_type": "stream",
          "name": "stdout",
          "text": [
            "{1, 2, 3}\n",
            "{2, 3, 4}\n",
            "{2, 3}\n",
            "{1, 2, 3, 4}\n",
            "{1}\n"
          ]
        }
      ]
    },
    {
      "cell_type": "code",
      "source": [
        "bankA_customers = set([\"김흥수\",\"이영희\",\"박믾수\",\"최지우\"])\n",
        "bankB_customers = set([\"이영희\",\"최지우\",\"정우성\",\"한지민\"])\n",
        "\n",
        "print(\"은행 A 고객\", bankA_customers)\n",
        "print(\"은행 B 고객\", bankB_customers)\n",
        "\n",
        "total_customers = bankA_customers | bankB_customers\n",
        "print(\"합병 후 전체 고객:\", total_customers)\n",
        "\n",
        "common_customers = bankA_customers & bankB_customers\n",
        "print(\"공통 고객:\", common_customers)\n",
        "\n",
        "only_A_customers = bankA_customers - bankB_customers\n",
        "print(\"A은행에만 있는 고객:\", only_A_customers)\n",
        "\n",
        "only_B_customers = bankB_customers - bankA_customers\n",
        "print(\"B은행에만 있는 고객:\", only_A_customers)"
      ],
      "metadata": {
        "colab": {
          "base_uri": "https://localhost:8080/"
        },
        "id": "ML0IPpx82W1l",
        "outputId": "52098a0a-322a-490a-f33c-2bd1912379f7"
      },
      "execution_count": 3,
      "outputs": [
        {
          "output_type": "stream",
          "name": "stdout",
          "text": [
            "은행 A 고객 {'최지우', '김흥수', '이영희', '박믾수'}\n",
            "은행 B 고객 {'정우성', '최지우', '이영희', '한지민'}\n",
            "합병 후 전체 고객: {'정우성', '이영희', '박믾수', '최지우', '김흥수', '한지민'}\n",
            "공통 고객: {'최지우', '이영희'}\n",
            "A은행에만 있는 고객: {'김흥수', '박믾수'}\n",
            "B은행에만 있는 고객: {'김흥수', '박믾수'}\n"
          ]
        }
      ]
    },
    {
      "cell_type": "code",
      "source": [
        "import numpy"
      ],
      "metadata": {
        "id": "1SZXxkp54VQ1"
      },
      "execution_count": null,
      "outputs": []
    }
  ]
}